{
  "nbformat": 4,
  "nbformat_minor": 0,
  "metadata": {
    "colab": {
      "name": "tf.keras预训练模型使用.ipynb",
      "provenance": [],
      "include_colab_link": true
    },
    "kernelspec": {
      "name": "python3",
      "display_name": "Python 3"
    }
  },
  "cells": [
    {
      "cell_type": "markdown",
      "metadata": {
        "id": "view-in-github",
        "colab_type": "text"
      },
      "source": [
        "<a href=\"https://colab.research.google.com/github/chongzicbo/keras_tutorial/blob/master/tf.keras%E9%A2%84%E8%AE%AD%E7%BB%83%E6%A8%A1%E5%9E%8B%E4%BD%BF%E7%94%A8.ipynb\" target=\"_parent\"><img src=\"https://colab.research.google.com/assets/colab-badge.svg\" alt=\"Open In Colab\"/></a>"
      ]
    },
    {
      "cell_type": "markdown",
      "metadata": {
        "id": "IfGI7ya-JhjI",
        "colab_type": "text"
      },
      "source": [
        "###tensorflow.keras预训练模型使用"
      ]
    },
    {
      "cell_type": "code",
      "metadata": {
        "id": "CkF7MSFYJ704",
        "colab_type": "code",
        "colab": {
          "base_uri": "https://localhost:8080/",
          "height": 64
        },
        "outputId": "9e6ee213-568d-4a58-b65b-7915a4ac2eca"
      },
      "source": [
        "from tensorflow.keras.applications.resnet50 import ResNet50\n",
        "from tensorflow.keras.preprocessing import image\n",
        "from tensorflow.keras.applications.resnet50 import preprocess_input,decode_predictions\n",
        "import numpy as np\n",
        "import tensorflow as tf\n",
        "from tensorflow import keras"
      ],
      "execution_count": 1,
      "outputs": [
        {
          "output_type": "display_data",
          "data": {
            "text/html": [
              "<p style=\"color: red;\">\n",
              "The default version of TensorFlow in Colab will soon switch to TensorFlow 2.x.<br>\n",
              "We recommend you <a href=\"https://www.tensorflow.org/guide/migrate\" target=\"_blank\">upgrade</a> now \n",
              "or ensure your notebook will continue to use TensorFlow 1.x via the <code>%tensorflow_version 1.x</code> magic:\n",
              "<a href=\"https://colab.research.google.com/notebooks/tensorflow_version.ipynb\" target=\"_blank\">more info</a>.</p>\n"
            ],
            "text/plain": [
              "<IPython.core.display.HTML object>"
            ]
          },
          "metadata": {
            "tags": []
          }
        }
      ]
    },
    {
      "cell_type": "code",
      "metadata": {
        "id": "bbsWAnlZKTDR",
        "colab_type": "code",
        "colab": {}
      },
      "source": [
        "tf.enable_eager_execution()"
      ],
      "execution_count": 0,
      "outputs": []
    },
    {
      "cell_type": "markdown",
      "metadata": {
        "id": "eorulZOB-76k",
        "colab_type": "text"
      },
      "source": [
        "##使用Resnet50进行ImageNet分类"
      ]
    },
    {
      "cell_type": "code",
      "metadata": {
        "id": "dqeB2ZNdKaki",
        "colab_type": "code",
        "colab": {
          "base_uri": "https://localhost:8080/",
          "height": 53
        },
        "outputId": "15220b90-d870-4103-ce39-04ea271227f9"
      },
      "source": [
        "model=ResNet50(weights='imagenet')"
      ],
      "execution_count": 4,
      "outputs": [
        {
          "output_type": "stream",
          "text": [
            "Downloading data from https://github.com/keras-team/keras-applications/releases/download/resnet/resnet50_weights_tf_dim_ordering_tf_kernels.h5\n",
            "102973440/102967424 [==============================] - 3s 0us/step\n"
          ],
          "name": "stdout"
        }
      ]
    },
    {
      "cell_type": "code",
      "metadata": {
        "id": "n9m1iJDRLhK7",
        "colab_type": "code",
        "colab": {
          "base_uri": "https://localhost:8080/",
          "height": 35
        },
        "outputId": "5fc0302a-b803-4466-9fab-0bd7f68914d7"
      },
      "source": [
        "from google.colab import drive\n",
        "drive.mount('/content/drive')"
      ],
      "execution_count": 5,
      "outputs": [
        {
          "output_type": "stream",
          "text": [
            "Drive already mounted at /content/drive; to attempt to forcibly remount, call drive.mount(\"/content/drive\", force_remount=True).\n"
          ],
          "name": "stdout"
        }
      ]
    },
    {
      "cell_type": "code",
      "metadata": {
        "id": "2rK9vhgsLiBy",
        "colab_type": "code",
        "colab": {}
      },
      "source": [
        "img_path=\"/content/drive/My Drive/data/d2l-zh-tensoflow/img/cat1.jpg\"\n",
        "img=image.load_img(img_path,target_size=(224,224))\n",
        "x=image.img_to_array(img)\n",
        "x=np.expand_dims(x,axis=0)\n",
        "x=preprocess_input(x)"
      ],
      "execution_count": 0,
      "outputs": []
    },
    {
      "cell_type": "code",
      "metadata": {
        "id": "DDf1QGHIMLGk",
        "colab_type": "code",
        "colab": {
          "base_uri": "https://localhost:8080/",
          "height": 35
        },
        "outputId": "98ce226e-bb16-4258-a9b6-8493361b0246"
      },
      "source": [
        "print(x.shape)"
      ],
      "execution_count": 7,
      "outputs": [
        {
          "output_type": "stream",
          "text": [
            "(1, 224, 224, 3)\n"
          ],
          "name": "stdout"
        }
      ]
    },
    {
      "cell_type": "code",
      "metadata": {
        "id": "nac9TKMFMPIj",
        "colab_type": "code",
        "colab": {
          "base_uri": "https://localhost:8080/",
          "height": 35
        },
        "outputId": "ead5bc21-9ac4-4ed1-cae7-74d1089f59f7"
      },
      "source": [
        "preds=model.predict(x)\n",
        "preds.shape"
      ],
      "execution_count": 8,
      "outputs": [
        {
          "output_type": "execute_result",
          "data": {
            "text/plain": [
              "(1, 1000)"
            ]
          },
          "metadata": {
            "tags": []
          },
          "execution_count": 8
        }
      ]
    },
    {
      "cell_type": "code",
      "metadata": {
        "id": "JyZ0GuFkMb9a",
        "colab_type": "code",
        "colab": {
          "base_uri": "https://localhost:8080/",
          "height": 71
        },
        "outputId": "7b2246a2-a95a-4607-8702-96398083404c"
      },
      "source": [
        "print('Predicted:',decode_predictions(preds,top=3)[0])"
      ],
      "execution_count": 9,
      "outputs": [
        {
          "output_type": "stream",
          "text": [
            "Downloading data from https://storage.googleapis.com/download.tensorflow.org/data/imagenet_class_index.json\n",
            "40960/35363 [==================================] - 0s 0us/step\n",
            "Predicted: [('n02123045', 'tabby', 0.5392685), ('n02123159', 'tiger_cat', 0.3790904), ('n02124075', 'Egyptian_cat', 0.024531964)]\n"
          ],
          "name": "stdout"
        }
      ]
    },
    {
      "cell_type": "markdown",
      "metadata": {
        "id": "ZNLpvnbQMnQy",
        "colab_type": "text"
      },
      "source": [
        "##使用VGG16提取特征"
      ]
    },
    {
      "cell_type": "code",
      "metadata": {
        "id": "05YWuYWzGJUx",
        "colab_type": "code",
        "colab": {}
      },
      "source": [
        "from tensorflow.keras.applications.vgg16 import VGG16\n",
        "from tensorflow.keras.preprocessing import image\n",
        "from tensorflow.keras.applications.vgg16 import preprocess_input\n",
        "import numpy as np"
      ],
      "execution_count": 0,
      "outputs": []
    },
    {
      "cell_type": "code",
      "metadata": {
        "id": "Hpm49R-fGYxa",
        "colab_type": "code",
        "colab": {
          "base_uri": "https://localhost:8080/",
          "height": 71
        },
        "outputId": "9e446835-2eaa-4d6d-9980-5f2cac928954"
      },
      "source": [
        "model=VGG16(weights='imagenet',include_top=False)\n",
        "img=image.load_img(img_path,target_size=(224,224))\n",
        "x=image.img_to_array(img)\n",
        "x=np.expand_dims(x,axis=0)\n",
        "x=preprocess_input(x)\n",
        "features=model.predict(x)\n",
        "features.shape"
      ],
      "execution_count": 11,
      "outputs": [
        {
          "output_type": "stream",
          "text": [
            "Downloading data from https://github.com/fchollet/deep-learning-models/releases/download/v0.1/vgg16_weights_tf_dim_ordering_tf_kernels_notop.h5\n",
            "58892288/58889256 [==============================] - 2s 0us/step\n"
          ],
          "name": "stdout"
        },
        {
          "output_type": "execute_result",
          "data": {
            "text/plain": [
              "(1, 7, 7, 512)"
            ]
          },
          "metadata": {
            "tags": []
          },
          "execution_count": 11
        }
      ]
    },
    {
      "cell_type": "markdown",
      "metadata": {
        "id": "rhx5astxtbDi",
        "colab_type": "text"
      },
      "source": [
        "##从VGG19任意中间层抽取特征"
      ]
    },
    {
      "cell_type": "code",
      "metadata": {
        "id": "-XkmHDgvtfU7",
        "colab_type": "code",
        "colab": {}
      },
      "source": [
        "from tensorflow.keras.applications.vgg19 import VGG19,preprocess_input\n",
        "from tensorflow.keras.models import Model"
      ],
      "execution_count": 0,
      "outputs": []
    },
    {
      "cell_type": "code",
      "metadata": {
        "id": "DYx8oG0Vtstb",
        "colab_type": "code",
        "colab": {}
      },
      "source": [
        "base_model=VGG19(weights='imagenet')\n",
        "model=Model(inputs=base_model.input,outputs=base_model.get_layer('block4_pool').output)\n",
        "img=image.load_img(img_path,target_size=(224,224))\n",
        "x=image.img_to_array(img)\n",
        "x=np.expand_dims(x,axis=0)\n",
        "x=preprocess_input(x)\n",
        "block4_pool_features=model.predict(x)"
      ],
      "execution_count": 0,
      "outputs": []
    },
    {
      "cell_type": "code",
      "metadata": {
        "id": "VgxnRO9iBnMi",
        "colab_type": "code",
        "colab": {
          "base_uri": "https://localhost:8080/",
          "height": 35
        },
        "outputId": "939d1893-a58f-415e-fe12-66af0c5973e5"
      },
      "source": [
        "block4_pool_features.shape"
      ],
      "execution_count": 8,
      "outputs": [
        {
          "output_type": "execute_result",
          "data": {
            "text/plain": [
              "(1, 14, 14, 512)"
            ]
          },
          "metadata": {
            "tags": []
          },
          "execution_count": 8
        }
      ]
    },
    {
      "cell_type": "markdown",
      "metadata": {
        "id": "6b2iEpFqCxTd",
        "colab_type": "text"
      },
      "source": [
        "##在新类上微调InceptionV3"
      ]
    },
    {
      "cell_type": "code",
      "metadata": {
        "id": "deP04wryC_rP",
        "colab_type": "code",
        "colab": {}
      },
      "source": [
        "from tensorflow.keras.applications.inception_v3 import InceptionV3\n",
        "from tensorflow.keras.layers import Dense,GlobalAveragePooling2D\n",
        "from tensorflow.keras.models import Model"
      ],
      "execution_count": 0,
      "outputs": []
    },
    {
      "cell_type": "code",
      "metadata": {
        "id": "aD9jhWVwDYoI",
        "colab_type": "code",
        "colab": {}
      },
      "source": [
        "base_model=InceptionV3(weights='imagenet',include_top=False) #构建不带分类器的预训练模型\n",
        "#添加全局平均池化层\n",
        "x=base_model.output\n",
        "x=GlobalAveragePooling2D()(x)\n",
        "#添加一个全连接层\n",
        "x=Dense(1024,activation='relu')(x)\n",
        "#添加一个分类器，假设我们有200个类\n",
        "predictions=Dense(200,activation='softmax')(x)\n",
        "#构建我们需要训练的完整模型\n",
        "model=Model(inputs=base_model.input,outputs=predictions)\n",
        "#首先，我们只训练顶部的几层（随机初始化的层）\n",
        "#锁住所有Inception V3的卷积层\n",
        "for layer in base_model.layers:\n",
        "  layer.trainable=False\n",
        "\n",
        "#编译模型，一定要在锁住层后操作\n",
        "model.compile(optimizer='rmsprop',loss='categorical_crossentropy')\n",
        "#在新的数据集上训练几代\n",
        "model.fit_generator()\n",
        "\n",
        "#顶层训练好后，开始微调InceptionV3的卷积层\n",
        "#锁住底下的几层，然后训练其余的顶层\n",
        "for i,layer in enumerate(base_model.layers):\n",
        "  print(i,layer.name)\n",
        "\n",
        "#训练最上面的两个Inception block\n",
        "#锁住前面249层，然后放开之后的层\n",
        "for layer in model.layers[:249]:\n",
        "  layer.trainable=False\n",
        "for layer in model.layers[249:]:\n",
        "  layer.trainable=True\n",
        "#需要重新编译模型，才能使上面的修改生效\n",
        "from tensorflow.keras.optimizers import  SGD\n",
        "model.compile(optimizer=SGD(lr=0.0001,momentum=0.9),loss='categorical_crossentropy')\n",
        "#继续训练模型,这次训练最后两个Inception block和两个全连接层\n",
        "model.fit_generator()"
      ],
      "execution_count": 0,
      "outputs": []
    }
  ]
}